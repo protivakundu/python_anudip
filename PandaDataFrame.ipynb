{
 "cells": [
  {
   "cell_type": "code",
   "execution_count": 1,
   "id": "9440b40f-cd9e-4e28-bad8-14fd99ff3cd8",
   "metadata": {},
   "outputs": [],
   "source": [
    "#import pandas library\n",
    "import pandas as pd"
   ]
  },
  {
   "cell_type": "code",
   "execution_count": 2,
   "id": "8d661c64-6264-4ed6-80a1-e74d97d7e145",
   "metadata": {},
   "outputs": [
    {
     "name": "stdout",
     "output_type": "stream",
     "text": [
      "   Math  English  Hindi\n",
      "0    78       84     86\n",
      "1    85       94     97\n",
      "2    96       89     96\n",
      "3    80       83     72\n",
      "4    86       86     83\n"
     ]
    }
   ],
   "source": [
    "#Take data\n",
    "score={\"Math\":[78,85,96,80,86],\n",
    "      \"English\":[84,94,89,83,86],\n",
    "       \"Hindi\":[86,97,96,72,83]\n",
    "      }\n",
    "#Create the dataframe\n",
    "d_frame=pd.DataFrame(score)\n",
    "print(d_frame)"
   ]
  },
  {
   "cell_type": "code",
   "execution_count": 3,
   "id": "590fcd3c-86db-445f-a035-729d37672be1",
   "metadata": {},
   "outputs": [
    {
     "name": "stdout",
     "output_type": "stream",
     "text": [
      "        Name  Score  Attempts Qualify\n",
      "0  Anastasia   12.5         1     Yes\n",
      "1       Dima    9.0         3      No\n",
      "2  Katherine   16.5         2     Yes\n",
      "3      James    NaN         3      No\n",
      "4      Emily    9.0         2      No\n",
      "5    Michael   20.0         3     Yes\n",
      "6    Matthew   14.5         1     Yes\n",
      "7      Laura    NaN         1      No\n",
      "8      Kevin    8.0         2      No\n",
      "9      Janas   19.0         1     Yes\n"
     ]
    }
   ],
   "source": [
    "#import pandas and numpy library\n",
    "import pandas as pd\n",
    "import numpy as np\n",
    "\n",
    "#Take data\n",
    "exam_data={\"Name\":[\"Anastasia\",\"Dima\",\"Katherine\",\"James\",\"Emily\",\"Michael\",\"Matthew\",\"Laura\",\"Kevin\",\"Janas\"],\n",
    "          \"Score\":[12.5,9,16.5,np.nan,9,20,14.5,np.nan,8,19],\n",
    "           \"Attempts\":[1,3,2,3,2,3,1,1,2,1],\n",
    "           \"Qualify\":[\"Yes\",\"No\",\"Yes\",\"No\",\"No\",\"Yes\",\"Yes\",\"No\",\"No\",\"Yes\"]\n",
    "          }\n",
    "#Create the dataframe\n",
    "d_frame=pd.DataFrame(exam_data)\n",
    "print(d_frame)"
   ]
  },
  {
   "cell_type": "code",
   "execution_count": 4,
   "id": "4cc31891-ce5c-4714-af0b-c0a2af6c82b5",
   "metadata": {},
   "outputs": [
    {
     "name": "stdout",
     "output_type": "stream",
     "text": [
      "   Name  Score  Attempts Qualify\n",
      "1  Dima    9.0         3      No\n"
     ]
    }
   ],
   "source": [
    "print(d_frame.loc[d_frame[\"Name\"]==\"Dima\"])"
   ]
  },
  {
   "cell_type": "code",
   "execution_count": 5,
   "id": "5fd96232-b5af-4821-aade-57aeb5eaea4a",
   "metadata": {},
   "outputs": [
    {
     "name": "stdout",
     "output_type": "stream",
     "text": [
      "        Name  Score  Attempts Qualify\n",
      "0  Anastasia   12.5         1     Yes\n",
      "1       Dima    9.0         3     Yes\n",
      "2  Katherine   16.5         2     Yes\n",
      "3      James    NaN         3      No\n",
      "4      Emily    9.0         2      No\n",
      "5    Michael   20.0         3     Yes\n",
      "6    Matthew   14.5         1     Yes\n",
      "7      Laura    NaN         1      No\n",
      "8      Kevin    8.0         2      No\n",
      "9      Janas   19.0         1     Yes\n"
     ]
    }
   ],
   "source": [
    "d_frame.loc[d_frame[\"Name\"]==\"Dima\",[\"Qualify\"]]=[\"Yes\"]\n",
    "print(d_frame)"
   ]
  },
  {
   "cell_type": "code",
   "execution_count": 6,
   "id": "b77f2773-b603-410b-b95e-21db6a2cbb74",
   "metadata": {},
   "outputs": [
    {
     "name": "stdout",
     "output_type": "stream",
     "text": [
      "        Name  Score  Scores  Attempts Qualify\n",
      "0  Anastasia   12.5    12.5         1     Yes\n",
      "1       Dima    9.0     9.0         3     Yes\n",
      "2  Katherine   16.5    16.5         2     Yes\n",
      "3      James    NaN     NaN         3      No\n",
      "4      Emily    9.0     9.0         2      No\n",
      "5    Michael   20.0    20.0         3     Yes\n",
      "6    Matthew   14.5    14.5         1     Yes\n",
      "7      Laura    NaN     NaN         1      No\n",
      "8      Kevin    8.0     8.0         2      No\n",
      "9      Janas   19.0    19.0         1     Yes\n"
     ]
    }
   ],
   "source": [
    "d_frame.insert(2,\"Scores\",exam_data[\"Score\"])\n",
    "print(d_frame)"
   ]
  },
  {
   "cell_type": "code",
   "execution_count": 7,
   "id": "44eabe6c-be42-41d5-aa20-d74a564c92d4",
   "metadata": {},
   "outputs": [
    {
     "name": "stdout",
     "output_type": "stream",
     "text": [
      "        Name  Score  Scores  Attempts Qualify\n",
      "0  Anastasia   12.5    12.5         1     Yes\n"
     ]
    }
   ],
   "source": [
    "print(d_frame.loc[d_frame[\"Scores\"]==12.5])"
   ]
  },
  {
   "cell_type": "code",
   "execution_count": 8,
   "id": "af3e5292-354b-44ee-a981-d0bf5ceeb834",
   "metadata": {},
   "outputs": [
    {
     "name": "stdout",
     "output_type": "stream",
     "text": [
      "        Name  Score  Scores  Attempts Qualify\n",
      "0  Anastasia   12.5    13.0         1     Yes\n",
      "1       Dima    9.0     9.0         3     Yes\n",
      "2  Katherine   16.5    16.5         2     Yes\n",
      "3      James    NaN     NaN         3      No\n",
      "4      Emily    9.0     9.0         2      No\n",
      "5    Michael   20.0    20.0         3     Yes\n",
      "6    Matthew   14.5    14.5         1     Yes\n",
      "7      Laura    NaN     NaN         1      No\n",
      "8      Kevin    8.0     8.0         2      No\n",
      "9      Janas   19.0    19.0         1     Yes\n"
     ]
    }
   ],
   "source": [
    "d_frame.loc[d_frame[\"Scores\"]==12.5,\"Scores\"]=[13]\n",
    "print(d_frame)"
   ]
  },
  {
   "cell_type": "code",
   "execution_count": null,
   "id": "c51e38f3-733d-416e-a06d-cd7d0ed40ded",
   "metadata": {
    "scrolled": true
   },
   "outputs": [],
   "source": []
  },
  {
   "cell_type": "code",
   "execution_count": null,
   "id": "a3905b89-76b5-400c-ba52-e5a84d818710",
   "metadata": {},
   "outputs": [],
   "source": []
  }
 ],
 "metadata": {
  "kernelspec": {
   "display_name": "Python 3 (ipykernel)",
   "language": "python",
   "name": "python3"
  },
  "language_info": {
   "codemirror_mode": {
    "name": "ipython",
    "version": 3
   },
   "file_extension": ".py",
   "mimetype": "text/x-python",
   "name": "python",
   "nbconvert_exporter": "python",
   "pygments_lexer": "ipython3",
   "version": "3.10.4"
  }
 },
 "nbformat": 4,
 "nbformat_minor": 5
}
