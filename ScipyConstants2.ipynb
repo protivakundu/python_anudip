{
 "cells": [
  {
   "cell_type": "code",
   "execution_count": 1,
   "id": "0420c22b-5c93-4d81-9011-cec5143992d1",
   "metadata": {},
   "outputs": [],
   "source": [
    "#import pandas and scipy library and constants from scipy directory\n",
    "import pandas as pd\n",
    "import scipy\n",
    "from scipy import constants as cons"
   ]
  },
  {
   "cell_type": "code",
   "execution_count": 2,
   "id": "55e45919-48bd-4044-8c19-1fd74bfd44a4",
   "metadata": {},
   "outputs": [
    {
     "data": {
      "text/html": [
       "<div>\n",
       "<style scoped>\n",
       "    .dataframe tbody tr th:only-of-type {\n",
       "        vertical-align: middle;\n",
       "    }\n",
       "\n",
       "    .dataframe tbody tr th {\n",
       "        vertical-align: top;\n",
       "    }\n",
       "\n",
       "    .dataframe thead th {\n",
       "        text-align: right;\n",
       "    }\n",
       "</style>\n",
       "<table border=\"1\" class=\"dataframe\">\n",
       "  <thead>\n",
       "    <tr style=\"text-align: right;\">\n",
       "      <th></th>\n",
       "      <th>Name</th>\n",
       "      <th>Height (inches)</th>\n",
       "      <th>Height (cm)</th>\n",
       "    </tr>\n",
       "  </thead>\n",
       "  <tbody>\n",
       "    <tr>\n",
       "      <th>0</th>\n",
       "      <td>Person 1</td>\n",
       "      <td>60.03</td>\n",
       "      <td>152.4762</td>\n",
       "    </tr>\n",
       "    <tr>\n",
       "      <th>1</th>\n",
       "      <td>Person 2</td>\n",
       "      <td>49.51</td>\n",
       "      <td>125.7554</td>\n",
       "    </tr>\n",
       "    <tr>\n",
       "      <th>2</th>\n",
       "      <td>Person 3</td>\n",
       "      <td>82.97</td>\n",
       "      <td>210.7438</td>\n",
       "    </tr>\n",
       "    <tr>\n",
       "      <th>3</th>\n",
       "      <td>Person 4</td>\n",
       "      <td>64.19</td>\n",
       "      <td>163.0426</td>\n",
       "    </tr>\n",
       "    <tr>\n",
       "      <th>4</th>\n",
       "      <td>Person 5</td>\n",
       "      <td>54.42</td>\n",
       "      <td>138.2268</td>\n",
       "    </tr>\n",
       "  </tbody>\n",
       "</table>\n",
       "</div>"
      ],
      "text/plain": [
       "       Name  Height (inches)  Height (cm)\n",
       "0  Person 1            60.03     152.4762\n",
       "1  Person 2            49.51     125.7554\n",
       "2  Person 3            82.97     210.7438\n",
       "3  Person 4            64.19     163.0426\n",
       "4  Person 5            54.42     138.2268"
      ]
     },
     "execution_count": 2,
     "metadata": {},
     "output_type": "execute_result"
    }
   ],
   "source": [
    "csv_file=\"https://raw.githubusercontent.com/AnudipAE/DANLC/master/people_heights.csv\"\n",
    "\n",
    "#read csv file\n",
    "d_frame=pd.read_csv(csv_file)\n",
    "\n",
    "#calculate height in centimeter and add a column\n",
    "d_frame[\"Height (cm)\"]=d_frame[\"Height (inches)\"]*cons.inch*100\n",
    "\n",
    "#show top 5 data\n",
    "d_frame.head(5)"
   ]
  },
  {
   "cell_type": "code",
   "execution_count": 3,
   "id": "5039a240-b2f5-43ca-a12a-463a40168c7e",
   "metadata": {},
   "outputs": [],
   "source": [
    "#save to a csv file\n",
    "d_frame.to_csv(\"C:/Users/Protiva/OneDrive/Desktop/Anudip_python/27 Excel/Height(cm)_data.csv\",index=False)"
   ]
  },
  {
   "cell_type": "code",
   "execution_count": null,
   "id": "9626f9c2-5afa-4020-9ac0-b8e49b5e2113",
   "metadata": {},
   "outputs": [],
   "source": []
  }
 ],
 "metadata": {
  "kernelspec": {
   "display_name": "Python 3 (ipykernel)",
   "language": "python",
   "name": "python3"
  },
  "language_info": {
   "codemirror_mode": {
    "name": "ipython",
    "version": 3
   },
   "file_extension": ".py",
   "mimetype": "text/x-python",
   "name": "python",
   "nbconvert_exporter": "python",
   "pygments_lexer": "ipython3",
   "version": "3.10.4"
  }
 },
 "nbformat": 4,
 "nbformat_minor": 5
}
