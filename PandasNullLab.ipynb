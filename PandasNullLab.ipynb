{
 "cells": [
  {
   "cell_type": "code",
   "execution_count": 1,
   "id": "f5e8cc9e-43d0-417a-bc5d-8eaf0f5d2e07",
   "metadata": {},
   "outputs": [],
   "source": [
    "#import pandas and numpy library\n",
    "import pandas as pd\n",
    "import numpy as np"
   ]
  },
  {
   "cell_type": "code",
   "execution_count": 5,
   "id": "b7648ed1-7399-4c0f-9b1d-0cfdb1687a72",
   "metadata": {},
   "outputs": [
    {
     "name": "stdout",
     "output_type": "stream",
     "text": [
      "Original orders DataFrame:\n",
      "      Ord_no  Punch_amt    Ord_data  Customer_id  Salesman_id\n",
      "0    70001.0     150.50  2012-10-05         3002       5002.0\n",
      "1        NaN     270.65  2012-09-10         3001       5003.0\n",
      "2    70002.0      65.26         NaN         3001       5001.0\n",
      "3    70004.0     110.50  2012-08-17         3003          NaN\n",
      "4        NaN     948.50  2012-09-10         3002       5002.0\n",
      "5    70005.0    2400.60  2012-07-27         3001       5001.0\n",
      "6        NaN    5760.00  2012-09-10         3001       5001.0\n",
      "7   700010.0    1983.43  2012-10-10         3004          NaN\n",
      "8    70003.0    2480.40  2012-10-10         3003       5003.0\n",
      "9    70012.0     250.45  2012-06-27         3002       5002.0\n",
      "10       NaN      75.29  2012-08-17         3001       5003.0\n",
      "11   70013.0    3045.60  2012-04-25         3001          NaN\n",
      "\n",
      "Missing values of the said DataFrame:\n"
     ]
    },
    {
     "data": {
      "text/plain": [
       "Ord_no         4\n",
       "Punch_amt      0\n",
       "Ord_data       1\n",
       "Customer_id    0\n",
       "Salesman_id    3\n",
       "dtype: int64"
      ]
     },
     "execution_count": 5,
     "metadata": {},
     "output_type": "execute_result"
    }
   ],
   "source": [
    "data={\"Ord_no\":[70001,np.nan,70002,70004,np.nan,70005,np.nan,700010,70003,70012,np.nan,70013],\n",
    "    \"Punch_amt\":[150.5,270.65,65.26,110.5,948.5,2400.6,5760,1983.43,2480.4,250.45,75.29,3045.6],\n",
    "      \"Ord_data\":[\"2012-10-05\",\"2012-09-10\",np.nan,\"2012-08-17\",\"2012-09-10\",\"2012-07-27\",\"2012-09-10\",\"2012-10-10\",\"2012-10-10\",\"2012-06-27\",\"2012-08-17\",\"2012-04-25\"],\n",
    "      \"Customer_id\":[3002,3001,3001,3003,3002,3001,3001,3004,3003,3002,3001,3001],\n",
    "      \"Salesman_id\":[5002,5003,5001,np.nan,5002,5001,5001,np.nan,5003,5002,5003,np.nan]\n",
    "    }\n",
    "\n",
    "#convert the data to dataframe\n",
    "d_frame=pd.DataFrame(data)\n",
    "print(\"Original orders DataFrame:\")\n",
    "print(d_frame)\n",
    "print()\n",
    "\n",
    "print(\"Missing values of the said DataFrame:\")\n",
    "#print the sum of null values\n",
    "d_frame.isnull().sum()"
   ]
  },
  {
   "cell_type": "code",
   "execution_count": 12,
   "id": "6cb55ca2-aff1-46f2-b580-580543056975",
   "metadata": {},
   "outputs": [
    {
     "name": "stdout",
     "output_type": "stream",
     "text": [
      "Original orders DataFrame:\n",
      "      Ord_no  Punch_amt    Ord_data  Customer_id  Salesman_id\n",
      "0    70001.0     150.50  2012-10-05         3002       5002.0\n",
      "1        NaN     270.65  2012-09-10         3001       5003.0\n",
      "2    70002.0      65.26         NaN         3001       5001.0\n",
      "3    70004.0     110.50  2012-08-17         3003          NaN\n",
      "4        NaN     948.50  2012-09-10         3002       5002.0\n",
      "5    70005.0    2400.60  2012-07-27         3001       5001.0\n",
      "6        NaN    5760.00  2012-09-10         3001       5001.0\n",
      "7   700010.0    1983.43  2012-10-10         3004          NaN\n",
      "8    70003.0    2480.40  2012-10-10         3003       5003.0\n",
      "9    70012.0     250.45  2012-06-27         3002       5002.0\n",
      "10       NaN      75.29  2012-08-17         3001       5003.0\n",
      "11   70013.0    3045.60  2012-04-25         3001          NaN\n",
      "\n",
      "Drop the rows where at least onne element is missing:\n",
      "    Ord_no  Punch_amt    Ord_data  Customer_id  Salesman_id\n",
      "0  70001.0     150.50  2012-10-05         3002       5002.0\n",
      "5  70005.0    2400.60  2012-07-27         3001       5001.0\n",
      "8  70003.0    2480.40  2012-10-10         3003       5003.0\n",
      "9  70012.0     250.45  2012-06-27         3002       5002.0\n"
     ]
    }
   ],
   "source": [
    "#import pandas and numpy library\n",
    "import pandas as pd\n",
    "import numpy as np\n",
    "data1={\"Ord_no\":[70001,np.nan,70002,70004,np.nan,70005,np.nan,700010,70003,70012,np.nan,70013],\n",
    "    \"Punch_amt\":[150.5,270.65,65.26,110.5,948.5,2400.6,5760,1983.43,2480.4,250.45,75.29,3045.6],\n",
    "      \"Ord_data\":[\"2012-10-05\",\"2012-09-10\",np.nan,\"2012-08-17\",\"2012-09-10\",\"2012-07-27\",\"2012-09-10\",\"2012-10-10\",\"2012-10-10\",\"2012-06-27\",\"2012-08-17\",\"2012-04-25\"],\n",
    "      \"Customer_id\":[3002,3001,3001,3003,3002,3001,3001,3004,3003,3002,3001,3001],\n",
    "      \"Salesman_id\":[5002,5003,5001,np.nan,5002,5001,5001,np.nan,5003,5002,5003,np.nan]\n",
    "    }\n",
    "\n",
    "#convert the data to dataframe\n",
    "d_frame=pd.DataFrame(data1)\n",
    "print(\"Original orders DataFrame:\")\n",
    "print(d_frame)\n",
    "print()\n",
    "\n",
    "#drop the included null values rows\n",
    "d_frame.dropna(inplace=True)\n",
    "print(\"Drop the rows where at least onne element is missing:\")\n",
    "print(d_frame)"
   ]
  },
  {
   "cell_type": "code",
   "execution_count": null,
   "id": "a216f663-b9a5-4f9f-ace6-faac54e55b00",
   "metadata": {},
   "outputs": [],
   "source": []
  }
 ],
 "metadata": {
  "kernelspec": {
   "display_name": "Python 3 (ipykernel)",
   "language": "python",
   "name": "python3"
  },
  "language_info": {
   "codemirror_mode": {
    "name": "ipython",
    "version": 3
   },
   "file_extension": ".py",
   "mimetype": "text/x-python",
   "name": "python",
   "nbconvert_exporter": "python",
   "pygments_lexer": "ipython3",
   "version": "3.10.4"
  }
 },
 "nbformat": 4,
 "nbformat_minor": 5
}
