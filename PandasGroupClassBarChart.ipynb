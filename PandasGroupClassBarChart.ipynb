{
 "cells": [
  {
   "cell_type": "code",
   "execution_count": 1,
   "id": "ccc93af8-293d-466b-9fab-a8b4ec186ec2",
   "metadata": {},
   "outputs": [],
   "source": [
    "#import pandas and matplotlib library\n",
    "import pandas as pd\n",
    "import matplotlib.pyplot as plt"
   ]
  },
  {
   "cell_type": "code",
   "execution_count": 2,
   "id": "188ffa2b-52f4-4427-a6d9-faf85d431589",
   "metadata": {},
   "outputs": [
    {
     "name": "stdout",
     "output_type": "stream",
     "text": [
      "Original DataFrame:\n",
      "  School_code Class            Name  Age  Height  Weight  Address Qualify\n",
      "0        s001     V  Alberto Franco   12     173      35  street1    Pass\n",
      "1        s002    VI    Gino Mcneill   12     192      32  street2    Pass\n",
      "2        s003    VI     Ruan Parkes   13     186      33  street3    Pass\n",
      "3        s001    VI    Eseha Hinton   13     167      30  street1    Pass\n",
      "4        s002     V    Gino Mcneill   14     151      31  street2    Fail\n",
      "5        s004    VI    David Parkes   12     159      32  street4    Fail\n",
      "\n",
      "Class wise No of students Count:\n",
      "Class\n",
      "V     2\n",
      "VI    4\n",
      "Name: count, dtype: int64\n",
      "\n"
     ]
    },
    {
     "data": {
      "image/png": "[encoded data removed]",
      "text/plain": [
       "<Figure size 640x480 with 1 Axes>"
      ]
     },
     "metadata": {},
     "output_type": "display_data"
    }
   ],
   "source": [
    "student_data={\"School_code\":[\"s001\",\"s002\",\"s003\",\"s001\",\"s002\",\"s004\"],\n",
    "             \"Class\":[\"V\",\"VI\",\"VI\",\"VI\",\"V\",\"VI\"],\n",
    "              \"Name\":[\"Alberto Franco\",\"Gino Mcneill\",\"Ruan Parkes\",\"Eseha Hinton\",\"Gino Mcneill\",\"David Parkes\"],\n",
    "              \"Age\":[12,12,13,13,14,12],\n",
    "              \"Height\":[173,192,186,167,151,159],\n",
    "              \"Weight\":[35,32,33,30,31,32],\n",
    "              \"Address\":[\"street1\",\"street2\",\"street3\",\"street1\",\"street2\",\"street4\"],\n",
    "              \"Qualify\":[\"Pass\",\"Pass\",\"Pass\",\"Pass\",\"Fail\",\"Fail\"]\n",
    "             }\n",
    "\n",
    "#conver student data into dataframe\n",
    "d_frame=pd.DataFrame(student_data)\n",
    "print(\"Original DataFrame:\")\n",
    "print(d_frame)\n",
    "print()\n",
    "\n",
    "print(\"Class wise No of students Count:\")\n",
    "#count the no of students on a particular class\n",
    "print(d_frame[\"Class\"].value_counts().sort_values())\n",
    "print()\n",
    "\n",
    "#create bar chart and display the chart \n",
    "plt.bar(d_frame[\"Class\"].value_counts().sort_values().index,d_frame[\"Class\"].value_counts().sort_values(),color=\"green\")\n",
    "plt.title(\"Counts the students of a class\")\n",
    "plt.xlabel(\"Class\")\n",
    "plt.ylabel(\"Counts of Students\")\n",
    "plt.show()"
   ]
  },
  {
   "cell_type": "markdown",
   "id": "07cfa79c-93e6-4442-a50e-0b1f8aec5587",
   "metadata": {},
   "source": [
    "We can see that, 4 students in class VI and 2 students in class V. There is some problem so less student in class V than class VI. So we have to focus on those classes to solve the problem and increase the students on both classes."
   ]
  },
  {
   "cell_type": "code",
   "execution_count": 3,
   "id": "4a6925ba-9b0e-4435-85e0-e4e40da0f976",
   "metadata": {},
   "outputs": [
    {
     "data": {
      "text/html": [
       "<div>\n",
       "<style scoped>\n",
       "    .dataframe tbody tr th:only-of-type {\n",
       "        vertical-align: middle;\n",
       "    }\n",
       "\n",
       "    .dataframe tbody tr th {\n",
       "        vertical-align: top;\n",
       "    }\n",
       "\n",
       "    .dataframe thead th {\n",
       "        text-align: right;\n",
       "    }\n",
       "</style>\n",
       "<table border=\"1\" class=\"dataframe\">\n",
       "  <thead>\n",
       "    <tr style=\"text-align: right;\">\n",
       "      <th></th>\n",
       "      <th></th>\n",
       "      <th>Age</th>\n",
       "      <th>Weight</th>\n",
       "    </tr>\n",
       "    <tr>\n",
       "      <th>Class</th>\n",
       "      <th>Address</th>\n",
       "      <th></th>\n",
       "      <th></th>\n",
       "    </tr>\n",
       "  </thead>\n",
       "  <tbody>\n",
       "    <tr>\n",
       "      <th rowspan=\"2\" valign=\"top\">V</th>\n",
       "      <th>street1</th>\n",
       "      <td>1</td>\n",
       "      <td>1</td>\n",
       "    </tr>\n",
       "    <tr>\n",
       "      <th>street2</th>\n",
       "      <td>1</td>\n",
       "      <td>1</td>\n",
       "    </tr>\n",
       "    <tr>\n",
       "      <th rowspan=\"4\" valign=\"top\">VI</th>\n",
       "      <th>street1</th>\n",
       "      <td>1</td>\n",
       "      <td>1</td>\n",
       "    </tr>\n",
       "    <tr>\n",
       "      <th>street2</th>\n",
       "      <td>1</td>\n",
       "      <td>1</td>\n",
       "    </tr>\n",
       "    <tr>\n",
       "      <th>street3</th>\n",
       "      <td>1</td>\n",
       "      <td>1</td>\n",
       "    </tr>\n",
       "    <tr>\n",
       "      <th>street4</th>\n",
       "      <td>1</td>\n",
       "      <td>1</td>\n",
       "    </tr>\n",
       "  </tbody>\n",
       "</table>\n",
       "</div>"
      ],
      "text/plain": [
       "               Age  Weight\n",
       "Class Address             \n",
       "V     street1    1       1\n",
       "      street2    1       1\n",
       "VI    street1    1       1\n",
       "      street2    1       1\n",
       "      street3    1       1\n",
       "      street4    1       1"
      ]
     },
     "execution_count": 3,
     "metadata": {},
     "output_type": "execute_result"
    }
   ],
   "source": [
    "d_frame[[\"Class\",\"Age\",\"Weight\",\"Address\"]].groupby([\"Class\",\"Address\"]).count()"
   ]
  },
  {
   "cell_type": "code",
   "execution_count": 4,
   "id": "1decae42-c014-40b4-99c0-6340b17f1d53",
   "metadata": {},
   "outputs": [
    {
     "data": {
      "text/html": [
       "<div>\n",
       "<style scoped>\n",
       "    .dataframe tbody tr th:only-of-type {\n",
       "        vertical-align: middle;\n",
       "    }\n",
       "\n",
       "    .dataframe tbody tr th {\n",
       "        vertical-align: top;\n",
       "    }\n",
       "\n",
       "    .dataframe thead th {\n",
       "        text-align: right;\n",
       "    }\n",
       "</style>\n",
       "<table border=\"1\" class=\"dataframe\">\n",
       "  <thead>\n",
       "    <tr style=\"text-align: right;\">\n",
       "      <th></th>\n",
       "      <th></th>\n",
       "      <th>Name</th>\n",
       "    </tr>\n",
       "    <tr>\n",
       "      <th>Class</th>\n",
       "      <th>Qualify</th>\n",
       "      <th></th>\n",
       "    </tr>\n",
       "  </thead>\n",
       "  <tbody>\n",
       "    <tr>\n",
       "      <th rowspan=\"2\" valign=\"top\">V</th>\n",
       "      <th>Fail</th>\n",
       "      <td>1</td>\n",
       "    </tr>\n",
       "    <tr>\n",
       "      <th>Pass</th>\n",
       "      <td>1</td>\n",
       "    </tr>\n",
       "    <tr>\n",
       "      <th rowspan=\"2\" valign=\"top\">VI</th>\n",
       "      <th>Fail</th>\n",
       "      <td>1</td>\n",
       "    </tr>\n",
       "    <tr>\n",
       "      <th>Pass</th>\n",
       "      <td>3</td>\n",
       "    </tr>\n",
       "  </tbody>\n",
       "</table>\n",
       "</div>"
      ],
      "text/plain": [
       "               Name\n",
       "Class Qualify      \n",
       "V     Fail        1\n",
       "      Pass        1\n",
       "VI    Fail        1\n",
       "      Pass        3"
      ]
     },
     "execution_count": 4,
     "metadata": {},
     "output_type": "execute_result"
    }
   ],
   "source": [
    "d_frame[[\"Qualify\",\"Class\",\"Name\"]].groupby([\"Class\",\"Qualify\"]).count()"
   ]
  },
  {
   "cell_type": "code",
   "execution_count": 6,
   "id": "db329294-9efe-4d6f-a034-4b2a23861f2a",
   "metadata": {},
   "outputs": [
    {
     "data": {
      "text/html": [
       "<div>\n",
       "<style scoped>\n",
       "    .dataframe tbody tr th:only-of-type {\n",
       "        vertical-align: middle;\n",
       "    }\n",
       "\n",
       "    .dataframe tbody tr th {\n",
       "        vertical-align: top;\n",
       "    }\n",
       "\n",
       "    .dataframe thead th {\n",
       "        text-align: right;\n",
       "    }\n",
       "</style>\n",
       "<table border=\"1\" class=\"dataframe\">\n",
       "  <thead>\n",
       "    <tr style=\"text-align: right;\">\n",
       "      <th></th>\n",
       "      <th>School_code</th>\n",
       "      <th>Class</th>\n",
       "      <th>Name</th>\n",
       "      <th>Age</th>\n",
       "      <th>Height</th>\n",
       "      <th>Weight</th>\n",
       "      <th>Address</th>\n",
       "      <th>Qualify</th>\n",
       "    </tr>\n",
       "  </thead>\n",
       "  <tbody>\n",
       "    <tr>\n",
       "      <th>1</th>\n",
       "      <td>s002</td>\n",
       "      <td>VI</td>\n",
       "      <td>Gino Mcneill</td>\n",
       "      <td>12</td>\n",
       "      <td>192</td>\n",
       "      <td>32</td>\n",
       "      <td>street2</td>\n",
       "      <td>Pass</td>\n",
       "    </tr>\n",
       "    <tr>\n",
       "      <th>2</th>\n",
       "      <td>s003</td>\n",
       "      <td>VI</td>\n",
       "      <td>Ruan Parkes</td>\n",
       "      <td>13</td>\n",
       "      <td>186</td>\n",
       "      <td>33</td>\n",
       "      <td>street3</td>\n",
       "      <td>Pass</td>\n",
       "    </tr>\n",
       "  </tbody>\n",
       "</table>\n",
       "</div>"
      ],
      "text/plain": [
       "  School_code Class          Name  Age  Height  Weight  Address Qualify\n",
       "1        s002    VI  Gino Mcneill   12     192      32  street2    Pass\n",
       "2        s003    VI   Ruan Parkes   13     186      33  street3    Pass"
      ]
     },
     "execution_count": 6,
     "metadata": {},
     "output_type": "execute_result"
    }
   ],
   "source": [
    "d_frame.nlargest(2,\"Height\")"
   ]
  },
  {
   "cell_type": "code",
   "execution_count": null,
   "id": "31dca542-8778-461b-99c1-c16c1337a12b",
   "metadata": {},
   "outputs": [],
   "source": []
  }
 ],
 "metadata": {
  "kernelspec": {
   "display_name": "Python 3 (ipykernel)",
   "language": "python",
   "name": "python3"
  },
  "language_info": {
   "codemirror_mode": {
    "name": "ipython",
    "version": 3
   },
   "file_extension": ".py",
   "mimetype": "text/x-python",
   "name": "python",
   "nbconvert_exporter": "python",
   "pygments_lexer": "ipython3",
   "version": "3.10.4"
  }
 },
 "nbformat": 4,
 "nbformat_minor": 5
}
