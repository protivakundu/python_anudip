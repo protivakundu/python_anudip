{
 "cells": [
  {
   "cell_type": "code",
   "execution_count": 1,
   "id": "c7f0e947-e468-4e96-b0a5-7f1aa5ab713e",
   "metadata": {},
   "outputs": [],
   "source": [
    "#import pandas and scipy library and constants from scipy directory\n",
    "import pandas as pd\n",
    "import scipy\n",
    "from scipy import constants as cons"
   ]
  },
  {
   "cell_type": "code",
   "execution_count": 2,
   "id": "fc5a2ab6-e43d-4f86-a76c-135f01222eaf",
   "metadata": {},
   "outputs": [
    {
     "data": {
      "text/html": [
       "<div>\n",
       "<style scoped>\n",
       "    .dataframe tbody tr th:only-of-type {\n",
       "        vertical-align: middle;\n",
       "    }\n",
       "\n",
       "    .dataframe tbody tr th {\n",
       "        vertical-align: top;\n",
       "    }\n",
       "\n",
       "    .dataframe thead th {\n",
       "        text-align: right;\n",
       "    }\n",
       "</style>\n",
       "<table border=\"1\" class=\"dataframe\">\n",
       "  <thead>\n",
       "    <tr style=\"text-align: right;\">\n",
       "      <th></th>\n",
       "      <th>CircleName</th>\n",
       "      <th>Radius</th>\n",
       "      <th>Area</th>\n",
       "    </tr>\n",
       "  </thead>\n",
       "  <tbody>\n",
       "    <tr>\n",
       "      <th>0</th>\n",
       "      <td>SAY</td>\n",
       "      <td>3.798717</td>\n",
       "      <td>45.333960</td>\n",
       "    </tr>\n",
       "    <tr>\n",
       "      <th>1</th>\n",
       "      <td>PSN</td>\n",
       "      <td>9.958397</td>\n",
       "      <td>311.550720</td>\n",
       "    </tr>\n",
       "    <tr>\n",
       "      <th>2</th>\n",
       "      <td>JDP</td>\n",
       "      <td>5.142711</td>\n",
       "      <td>83.087197</td>\n",
       "    </tr>\n",
       "    <tr>\n",
       "      <th>3</th>\n",
       "      <td>AUO</td>\n",
       "      <td>3.319584</td>\n",
       "      <td>34.619210</td>\n",
       "    </tr>\n",
       "    <tr>\n",
       "      <th>4</th>\n",
       "      <td>OHG</td>\n",
       "      <td>1.138395</td>\n",
       "      <td>4.071325</td>\n",
       "    </tr>\n",
       "  </tbody>\n",
       "</table>\n",
       "</div>"
      ],
      "text/plain": [
       "  CircleName    Radius        Area\n",
       "0        SAY  3.798717   45.333960\n",
       "1        PSN  9.958397  311.550720\n",
       "2        JDP  5.142711   83.087197\n",
       "3        AUO  3.319584   34.619210\n",
       "4        OHG  1.138395    4.071325"
      ]
     },
     "execution_count": 2,
     "metadata": {},
     "output_type": "execute_result"
    }
   ],
   "source": [
    "csv_file=\"https://raw.githubusercontent.com/AnudipAE/DANLC/master/radius_data.csv\"\n",
    "\n",
    "#read csv file\n",
    "d_frame=pd.read_csv(csv_file)\n",
    "\n",
    "#calculate area and add a column\n",
    "d_frame[\"Area\"]=d_frame[\"Radius\"]*d_frame[\"Radius\"]*cons.pi\n",
    "\n",
    "#show top 5 data\n",
    "d_frame.head(5)"
   ]
  },
  {
   "cell_type": "code",
   "execution_count": 3,
   "id": "8ed0cc18-1b53-41f8-98ce-3f8e4bd88534",
   "metadata": {},
   "outputs": [],
   "source": [
    "#save to a csv file\n",
    "d_frame.to_csv(\"C:/Users/Protiva/OneDrive/Desktop/Anudip_python/27 Excel/Area_data.csv\",index=False)"
   ]
  },
  {
   "cell_type": "code",
   "execution_count": null,
   "id": "ab6ba2cb-ef8f-4385-b2c3-82a5c2fc9339",
   "metadata": {},
   "outputs": [],
   "source": []
  },
  {
   "cell_type": "code",
   "execution_count": null,
   "id": "f3d3a537-c231-461e-99a0-2845107457f7",
   "metadata": {},
   "outputs": [],
   "source": []
  },
  {
   "cell_type": "code",
   "execution_count": null,
   "id": "ec2b815c-d047-4204-88dd-c23a32b9543f",
   "metadata": {},
   "outputs": [],
   "source": []
  },
  {
   "cell_type": "code",
   "execution_count": null,
   "id": "88f3d518-42bc-4204-bd95-aefb44158f5e",
   "metadata": {},
   "outputs": [],
   "source": []
  }
 ],
 "metadata": {
  "kernelspec": {
   "display_name": "Python 3 (ipykernel)",
   "language": "python",
   "name": "python3"
  },
  "language_info": {
   "codemirror_mode": {
    "name": "ipython",
    "version": 3
   },
   "file_extension": ".py",
   "mimetype": "text/x-python",
   "name": "python",
   "nbconvert_exporter": "python",
   "pygments_lexer": "ipython3",
   "version": "3.10.4"
  }
 },
 "nbformat": 4,
 "nbformat_minor": 5
}
