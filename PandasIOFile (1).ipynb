{
 "cells": [
  {
   "cell_type": "code",
   "execution_count": 1,
   "id": "db19c89d-bd07-435e-9c15-f80c8fd62fad",
   "metadata": {},
   "outputs": [],
   "source": [
    "import pandas as pd\n",
    "import matplotlib.pyplot as plt"
   ]
  },
  {
   "cell_type": "code",
   "execution_count": 2,
   "id": "4cdef5c3-4919-4dda-bec6-d603486c1e64",
   "metadata": {},
   "outputs": [],
   "source": [
    "#read csv file\n",
    "#pd.read_csv(filepath)\n",
    "csv_file_path=\"C:/Users/Protiva/OneDrive/Desktop/Anudip_python/27 Excel/student_data.csv\"\n",
    "\n",
    "d_frame=pd.read_csv(csv_file_path)"
   ]
  },
  {
   "cell_type": "code",
   "execution_count": 3,
   "id": "4520ab42-63ce-46b3-badf-6d9dab70bfa4",
   "metadata": {},
   "outputs": [
    {
     "data": {
      "text/html": [
       "<div>\n",
       "<style scoped>\n",
       "    .dataframe tbody tr th:only-of-type {\n",
       "        vertical-align: middle;\n",
       "    }\n",
       "\n",
       "    .dataframe tbody tr th {\n",
       "        vertical-align: top;\n",
       "    }\n",
       "\n",
       "    .dataframe thead th {\n",
       "        text-align: right;\n",
       "    }\n",
       "</style>\n",
       "<table border=\"1\" class=\"dataframe\">\n",
       "  <thead>\n",
       "    <tr style=\"text-align: right;\">\n",
       "      <th></th>\n",
       "      <th>Student ID</th>\n",
       "      <th>Name</th>\n",
       "      <th>Age</th>\n",
       "      <th>Grade</th>\n",
       "      <th>Major</th>\n",
       "      <th>GPA</th>\n",
       "      <th>City</th>\n",
       "    </tr>\n",
       "  </thead>\n",
       "  <tbody>\n",
       "    <tr>\n",
       "      <th>0</th>\n",
       "      <td>1</td>\n",
       "      <td>Paula Singh</td>\n",
       "      <td>23</td>\n",
       "      <td>B</td>\n",
       "      <td>Biology</td>\n",
       "      <td>2.52</td>\n",
       "      <td>LUS</td>\n",
       "    </tr>\n",
       "    <tr>\n",
       "      <th>1</th>\n",
       "      <td>2</td>\n",
       "      <td>Louis Robinson</td>\n",
       "      <td>21</td>\n",
       "      <td>A</td>\n",
       "      <td>English</td>\n",
       "      <td>3.66</td>\n",
       "      <td>KQK</td>\n",
       "    </tr>\n",
       "    <tr>\n",
       "      <th>2</th>\n",
       "      <td>3</td>\n",
       "      <td>Nora Krueger</td>\n",
       "      <td>18</td>\n",
       "      <td>B</td>\n",
       "      <td>English</td>\n",
       "      <td>3.95</td>\n",
       "      <td>EPV</td>\n",
       "    </tr>\n",
       "    <tr>\n",
       "      <th>3</th>\n",
       "      <td>4</td>\n",
       "      <td>Jones Myers</td>\n",
       "      <td>19</td>\n",
       "      <td>C</td>\n",
       "      <td>Mathematics</td>\n",
       "      <td>3.94</td>\n",
       "      <td>CUR</td>\n",
       "    </tr>\n",
       "    <tr>\n",
       "      <th>4</th>\n",
       "      <td>5</td>\n",
       "      <td>Lydia Leon</td>\n",
       "      <td>21</td>\n",
       "      <td>D</td>\n",
       "      <td>Mathematics</td>\n",
       "      <td>3.43</td>\n",
       "      <td>AER</td>\n",
       "    </tr>\n",
       "    <tr>\n",
       "      <th>...</th>\n",
       "      <td>...</td>\n",
       "      <td>...</td>\n",
       "      <td>...</td>\n",
       "      <td>...</td>\n",
       "      <td>...</td>\n",
       "      <td>...</td>\n",
       "      <td>...</td>\n",
       "    </tr>\n",
       "    <tr>\n",
       "      <th>101</th>\n",
       "      <td>100</td>\n",
       "      <td>Andy Espinoza</td>\n",
       "      <td>18</td>\n",
       "      <td>F</td>\n",
       "      <td>Biology</td>\n",
       "      <td>3.56</td>\n",
       "      <td>WFJ</td>\n",
       "    </tr>\n",
       "    <tr>\n",
       "      <th>102</th>\n",
       "      <td>99</td>\n",
       "      <td>Vivian Aguirre</td>\n",
       "      <td>19</td>\n",
       "      <td>C</td>\n",
       "      <td>History</td>\n",
       "      <td>2.98</td>\n",
       "      <td>TFB</td>\n",
       "    </tr>\n",
       "    <tr>\n",
       "      <th>103</th>\n",
       "      <td>100</td>\n",
       "      <td>Andy Espinoza</td>\n",
       "      <td>18</td>\n",
       "      <td>F</td>\n",
       "      <td>Biology</td>\n",
       "      <td>3.56</td>\n",
       "      <td>WFJ</td>\n",
       "    </tr>\n",
       "    <tr>\n",
       "      <th>104</th>\n",
       "      <td>99</td>\n",
       "      <td>Vivian Aguirre</td>\n",
       "      <td>19</td>\n",
       "      <td>C</td>\n",
       "      <td>History</td>\n",
       "      <td>2.98</td>\n",
       "      <td>TFB</td>\n",
       "    </tr>\n",
       "    <tr>\n",
       "      <th>105</th>\n",
       "      <td>100</td>\n",
       "      <td>Andy Espinoza</td>\n",
       "      <td>18</td>\n",
       "      <td>F</td>\n",
       "      <td>Biology</td>\n",
       "      <td>3.56</td>\n",
       "      <td>WFJ</td>\n",
       "    </tr>\n",
       "  </tbody>\n",
       "</table>\n",
       "<p>106 rows × 7 columns</p>\n",
       "</div>"
      ],
      "text/plain": [
       "     Student ID            Name  Age Grade        Major   GPA City\n",
       "0             1     Paula Singh   23     B      Biology  2.52  LUS\n",
       "1             2  Louis Robinson   21     A      English  3.66  KQK\n",
       "2             3    Nora Krueger   18     B      English  3.95  EPV\n",
       "3             4     Jones Myers   19     C  Mathematics  3.94  CUR\n",
       "4             5      Lydia Leon   21     D  Mathematics  3.43  AER\n",
       "..          ...             ...  ...   ...          ...   ...  ...\n",
       "101         100   Andy Espinoza   18     F      Biology  3.56  WFJ\n",
       "102          99  Vivian Aguirre   19     C      History  2.98  TFB\n",
       "103         100   Andy Espinoza   18     F      Biology  3.56  WFJ\n",
       "104          99  Vivian Aguirre   19     C      History  2.98  TFB\n",
       "105         100   Andy Espinoza   18     F      Biology  3.56  WFJ\n",
       "\n",
       "[106 rows x 7 columns]"
      ]
     },
     "execution_count": 3,
     "metadata": {},
     "output_type": "execute_result"
    }
   ],
   "source": [
    "d_frame"
   ]
  },
  {
   "cell_type": "code",
   "execution_count": 4,
   "id": "31198457-ca36-4ad3-8779-597f77915e81",
   "metadata": {},
   "outputs": [
    {
     "data": {
      "text/html": [
       "<div>\n",
       "<style scoped>\n",
       "    .dataframe tbody tr th:only-of-type {\n",
       "        vertical-align: middle;\n",
       "    }\n",
       "\n",
       "    .dataframe tbody tr th {\n",
       "        vertical-align: top;\n",
       "    }\n",
       "\n",
       "    .dataframe thead th {\n",
       "        text-align: right;\n",
       "    }\n",
       "</style>\n",
       "<table border=\"1\" class=\"dataframe\">\n",
       "  <thead>\n",
       "    <tr style=\"text-align: right;\">\n",
       "      <th></th>\n",
       "      <th>Student ID</th>\n",
       "      <th>Name</th>\n",
       "      <th>Age</th>\n",
       "      <th>Grade</th>\n",
       "      <th>Major</th>\n",
       "      <th>GPA</th>\n",
       "      <th>City</th>\n",
       "    </tr>\n",
       "  </thead>\n",
       "  <tbody>\n",
       "    <tr>\n",
       "      <th>0</th>\n",
       "      <td>1</td>\n",
       "      <td>Paula Singh</td>\n",
       "      <td>23</td>\n",
       "      <td>B</td>\n",
       "      <td>Biology</td>\n",
       "      <td>2.52</td>\n",
       "      <td>LUS</td>\n",
       "    </tr>\n",
       "    <tr>\n",
       "      <th>1</th>\n",
       "      <td>2</td>\n",
       "      <td>Louis Robinson</td>\n",
       "      <td>21</td>\n",
       "      <td>A</td>\n",
       "      <td>English</td>\n",
       "      <td>3.66</td>\n",
       "      <td>KQK</td>\n",
       "    </tr>\n",
       "    <tr>\n",
       "      <th>2</th>\n",
       "      <td>3</td>\n",
       "      <td>Nora Krueger</td>\n",
       "      <td>18</td>\n",
       "      <td>B</td>\n",
       "      <td>English</td>\n",
       "      <td>3.95</td>\n",
       "      <td>EPV</td>\n",
       "    </tr>\n",
       "    <tr>\n",
       "      <th>3</th>\n",
       "      <td>4</td>\n",
       "      <td>Jones Myers</td>\n",
       "      <td>19</td>\n",
       "      <td>C</td>\n",
       "      <td>Mathematics</td>\n",
       "      <td>3.94</td>\n",
       "      <td>CUR</td>\n",
       "    </tr>\n",
       "    <tr>\n",
       "      <th>4</th>\n",
       "      <td>5</td>\n",
       "      <td>Lydia Leon</td>\n",
       "      <td>21</td>\n",
       "      <td>D</td>\n",
       "      <td>Mathematics</td>\n",
       "      <td>3.43</td>\n",
       "      <td>AER</td>\n",
       "    </tr>\n",
       "  </tbody>\n",
       "</table>\n",
       "</div>"
      ],
      "text/plain": [
       "   Student ID            Name  Age Grade        Major   GPA City\n",
       "0           1     Paula Singh   23     B      Biology  2.52  LUS\n",
       "1           2  Louis Robinson   21     A      English  3.66  KQK\n",
       "2           3    Nora Krueger   18     B      English  3.95  EPV\n",
       "3           4     Jones Myers   19     C  Mathematics  3.94  CUR\n",
       "4           5      Lydia Leon   21     D  Mathematics  3.43  AER"
      ]
     },
     "execution_count": 4,
     "metadata": {},
     "output_type": "execute_result"
    }
   ],
   "source": [
    "#d_frame.head() shows the first 5 rows by default\n",
    "d_frame.head()"
   ]
  },
  {
   "cell_type": "code",
   "execution_count": 5,
   "id": "23951b06-3b45-4438-9e7d-4700b41b313e",
   "metadata": {},
   "outputs": [
    {
     "data": {
      "text/html": [
       "<div>\n",
       "<style scoped>\n",
       "    .dataframe tbody tr th:only-of-type {\n",
       "        vertical-align: middle;\n",
       "    }\n",
       "\n",
       "    .dataframe tbody tr th {\n",
       "        vertical-align: top;\n",
       "    }\n",
       "\n",
       "    .dataframe thead th {\n",
       "        text-align: right;\n",
       "    }\n",
       "</style>\n",
       "<table border=\"1\" class=\"dataframe\">\n",
       "  <thead>\n",
       "    <tr style=\"text-align: right;\">\n",
       "      <th></th>\n",
       "      <th>Student ID</th>\n",
       "      <th>Name</th>\n",
       "      <th>Age</th>\n",
       "      <th>Grade</th>\n",
       "      <th>Major</th>\n",
       "      <th>GPA</th>\n",
       "      <th>City</th>\n",
       "    </tr>\n",
       "  </thead>\n",
       "  <tbody>\n",
       "    <tr>\n",
       "      <th>101</th>\n",
       "      <td>100</td>\n",
       "      <td>Andy Espinoza</td>\n",
       "      <td>18</td>\n",
       "      <td>F</td>\n",
       "      <td>Biology</td>\n",
       "      <td>3.56</td>\n",
       "      <td>WFJ</td>\n",
       "    </tr>\n",
       "    <tr>\n",
       "      <th>102</th>\n",
       "      <td>99</td>\n",
       "      <td>Vivian Aguirre</td>\n",
       "      <td>19</td>\n",
       "      <td>C</td>\n",
       "      <td>History</td>\n",
       "      <td>2.98</td>\n",
       "      <td>TFB</td>\n",
       "    </tr>\n",
       "    <tr>\n",
       "      <th>103</th>\n",
       "      <td>100</td>\n",
       "      <td>Andy Espinoza</td>\n",
       "      <td>18</td>\n",
       "      <td>F</td>\n",
       "      <td>Biology</td>\n",
       "      <td>3.56</td>\n",
       "      <td>WFJ</td>\n",
       "    </tr>\n",
       "    <tr>\n",
       "      <th>104</th>\n",
       "      <td>99</td>\n",
       "      <td>Vivian Aguirre</td>\n",
       "      <td>19</td>\n",
       "      <td>C</td>\n",
       "      <td>History</td>\n",
       "      <td>2.98</td>\n",
       "      <td>TFB</td>\n",
       "    </tr>\n",
       "    <tr>\n",
       "      <th>105</th>\n",
       "      <td>100</td>\n",
       "      <td>Andy Espinoza</td>\n",
       "      <td>18</td>\n",
       "      <td>F</td>\n",
       "      <td>Biology</td>\n",
       "      <td>3.56</td>\n",
       "      <td>WFJ</td>\n",
       "    </tr>\n",
       "  </tbody>\n",
       "</table>\n",
       "</div>"
      ],
      "text/plain": [
       "     Student ID            Name  Age Grade    Major   GPA City\n",
       "101         100   Andy Espinoza   18     F  Biology  3.56  WFJ\n",
       "102          99  Vivian Aguirre   19     C  History  2.98  TFB\n",
       "103         100   Andy Espinoza   18     F  Biology  3.56  WFJ\n",
       "104          99  Vivian Aguirre   19     C  History  2.98  TFB\n",
       "105         100   Andy Espinoza   18     F  Biology  3.56  WFJ"
      ]
     },
     "execution_count": 5,
     "metadata": {},
     "output_type": "execute_result"
    }
   ],
   "source": [
    "#d_frame.tail() shows the last 5 rows by default\n",
    "d_frame.tail()"
   ]
  },
  {
   "cell_type": "code",
   "execution_count": 6,
   "id": "c8f8195d-4efa-437a-ac14-91d5eb24bb50",
   "metadata": {},
   "outputs": [
    {
     "name": "stdout",
     "output_type": "stream",
     "text": [
      "<class 'pandas.core.frame.DataFrame'>\n",
      "RangeIndex: 106 entries, 0 to 105\n",
      "Data columns (total 7 columns):\n",
      " #   Column      Non-Null Count  Dtype  \n",
      "---  ------      --------------  -----  \n",
      " 0   Student ID  106 non-null    int64  \n",
      " 1   Name        105 non-null    object \n",
      " 2   Age         106 non-null    int64  \n",
      " 3   Grade       105 non-null    object \n",
      " 4   Major       105 non-null    object \n",
      " 5   GPA         106 non-null    float64\n",
      " 6   City        105 non-null    object \n",
      "dtypes: float64(1), int64(2), object(4)\n",
      "memory usage: 5.9+ KB\n"
     ]
    }
   ],
   "source": [
    "d_frame.info()"
   ]
  },
  {
   "cell_type": "code",
   "execution_count": 7,
   "id": "c8156824-8d6f-41ec-870f-818ff03fd927",
   "metadata": {},
   "outputs": [
    {
     "data": {
      "text/plain": [
       "Name\n",
       "Andy Espinoza       4\n",
       "Vivian Aguirre      4\n",
       "Cristian Sweeney    1\n",
       "Hunter Buchanan     1\n",
       "Adelina Morgan      1\n",
       "                   ..\n",
       "Edison Winters      1\n",
       "Winnie Collier      1\n",
       "Jamison Bullock     1\n",
       "Valerie Farmer      1\n",
       "Shiloh Kent         1\n",
       "Name: count, Length: 99, dtype: int64"
      ]
     },
     "execution_count": 7,
     "metadata": {},
     "output_type": "execute_result"
    }
   ],
   "source": [
    "d_frame[\"Name\"].value_counts()"
   ]
  },
  {
   "cell_type": "code",
   "execution_count": 8,
   "id": "2c6aa802-530f-4ef7-b23f-34c89829517e",
   "metadata": {},
   "outputs": [
    {
     "data": {
      "text/plain": [
       "Name\n",
       "False    105\n",
       "True       1\n",
       "Name: count, dtype: int64"
      ]
     },
     "execution_count": 8,
     "metadata": {},
     "output_type": "execute_result"
    }
   ],
   "source": [
    "d_frame[\"Name\"].isnull().value_counts()"
   ]
  },
  {
   "cell_type": "code",
   "execution_count": 9,
   "id": "f2c2db3f-9e2d-414a-8f0b-0467f54785f6",
   "metadata": {},
   "outputs": [
    {
     "data": {
      "text/html": [
       "<div>\n",
       "<style scoped>\n",
       "    .dataframe tbody tr th:only-of-type {\n",
       "        vertical-align: middle;\n",
       "    }\n",
       "\n",
       "    .dataframe tbody tr th {\n",
       "        vertical-align: top;\n",
       "    }\n",
       "\n",
       "    .dataframe thead th {\n",
       "        text-align: right;\n",
       "    }\n",
       "</style>\n",
       "<table border=\"1\" class=\"dataframe\">\n",
       "  <thead>\n",
       "    <tr style=\"text-align: right;\">\n",
       "      <th></th>\n",
       "      <th>Student ID</th>\n",
       "      <th>Age</th>\n",
       "      <th>GPA</th>\n",
       "    </tr>\n",
       "  </thead>\n",
       "  <tbody>\n",
       "    <tr>\n",
       "      <th>count</th>\n",
       "      <td>106.000000</td>\n",
       "      <td>106.000000</td>\n",
       "      <td>106.000000</td>\n",
       "    </tr>\n",
       "    <tr>\n",
       "      <th>mean</th>\n",
       "      <td>53.273585</td>\n",
       "      <td>20.933962</td>\n",
       "      <td>3.263774</td>\n",
       "    </tr>\n",
       "    <tr>\n",
       "      <th>std</th>\n",
       "      <td>30.381239</td>\n",
       "      <td>2.331028</td>\n",
       "      <td>0.423434</td>\n",
       "    </tr>\n",
       "    <tr>\n",
       "      <th>min</th>\n",
       "      <td>1.000000</td>\n",
       "      <td>18.000000</td>\n",
       "      <td>2.510000</td>\n",
       "    </tr>\n",
       "    <tr>\n",
       "      <th>25%</th>\n",
       "      <td>27.250000</td>\n",
       "      <td>19.000000</td>\n",
       "      <td>2.915000</td>\n",
       "    </tr>\n",
       "    <tr>\n",
       "      <th>50%</th>\n",
       "      <td>53.500000</td>\n",
       "      <td>21.000000</td>\n",
       "      <td>3.295000</td>\n",
       "    </tr>\n",
       "    <tr>\n",
       "      <th>75%</th>\n",
       "      <td>79.750000</td>\n",
       "      <td>23.000000</td>\n",
       "      <td>3.630000</td>\n",
       "    </tr>\n",
       "    <tr>\n",
       "      <th>max</th>\n",
       "      <td>100.000000</td>\n",
       "      <td>25.000000</td>\n",
       "      <td>3.990000</td>\n",
       "    </tr>\n",
       "  </tbody>\n",
       "</table>\n",
       "</div>"
      ],
      "text/plain": [
       "       Student ID         Age         GPA\n",
       "count  106.000000  106.000000  106.000000\n",
       "mean    53.273585   20.933962    3.263774\n",
       "std     30.381239    2.331028    0.423434\n",
       "min      1.000000   18.000000    2.510000\n",
       "25%     27.250000   19.000000    2.915000\n",
       "50%     53.500000   21.000000    3.295000\n",
       "75%     79.750000   23.000000    3.630000\n",
       "max    100.000000   25.000000    3.990000"
      ]
     },
     "execution_count": 9,
     "metadata": {},
     "output_type": "execute_result"
    }
   ],
   "source": [
    "#show statistical data\n",
    "d_frame.describe()"
   ]
  },
  {
   "cell_type": "code",
   "execution_count": 10,
   "id": "25a1a400-8f34-4270-af33-3da8c343e249",
   "metadata": {},
   "outputs": [
    {
     "data": {
      "text/plain": [
       "Age\n",
       "18    21\n",
       "19    17\n",
       "23    14\n",
       "20    14\n",
       "21    11\n",
       "22    10\n",
       "24    10\n",
       "25     9\n",
       "Name: count, dtype: int64"
      ]
     },
     "execution_count": 10,
     "metadata": {},
     "output_type": "execute_result"
    }
   ],
   "source": [
    "d_frame[\"Age\"].value_counts()"
   ]
  },
  {
   "cell_type": "code",
   "execution_count": 11,
   "id": "fca434e7-5459-4c7f-ba90-429a7b0a2ffd",
   "metadata": {},
   "outputs": [
    {
     "data": {
      "text/plain": [
       "Age\n",
       "False    106\n",
       "Name: count, dtype: int64"
      ]
     },
     "execution_count": 11,
     "metadata": {},
     "output_type": "execute_result"
    }
   ],
   "source": [
    "d_frame[\"Age\"].isnull().value_counts()"
   ]
  },
  {
   "cell_type": "code",
   "execution_count": 12,
   "id": "fc26d92b-0273-4b47-aa19-34de63c48da1",
   "metadata": {},
   "outputs": [
    {
     "data": {
      "text/plain": [
       "Major\n",
       "Biology             26\n",
       "English             25\n",
       "History             23\n",
       "Mathematics         18\n",
       "Computer Science    13\n",
       "Name: count, dtype: int64"
      ]
     },
     "execution_count": 12,
     "metadata": {},
     "output_type": "execute_result"
    }
   ],
   "source": [
    "d_frame[\"Major\"].value_counts()"
   ]
  },
  {
   "cell_type": "code",
   "execution_count": 13,
   "id": "13dd8e6e-5717-4af0-850c-25728f35f631",
   "metadata": {},
   "outputs": [
    {
     "data": {
      "text/plain": [
       "Grade\n",
       "A    25\n",
       "F    23\n",
       "C    22\n",
       "B    21\n",
       "D    14\n",
       "Name: count, dtype: int64"
      ]
     },
     "execution_count": 13,
     "metadata": {},
     "output_type": "execute_result"
    }
   ],
   "source": [
    "d_frame[\"Grade\"].value_counts()"
   ]
  },
  {
   "cell_type": "code",
   "execution_count": 14,
   "id": "a87afd1b-307c-4fe9-ad15-4978966a3bc1",
   "metadata": {},
   "outputs": [
    {
     "data": {
      "image/png": "[encoded data removed]",
      "text/plain": [
       "<Figure size 640x480 with 1 Axes>"
      ]
     },
     "metadata": {},
     "output_type": "display_data"
    }
   ],
   "source": [
    "#pie chart\n",
    "plt.pie(d_frame[\"Grade\"].value_counts(),labels=d_frame[\"Grade\"].value_counts().index,autopct=\"%1.1f%%\")\n",
    "plt.title(\"Visulazie the grades\")\n",
    "plt.show()"
   ]
  },
  {
   "cell_type": "code",
   "execution_count": 15,
   "id": "58af7b30-9873-47d2-8032-f2e0c8507ebe",
   "metadata": {},
   "outputs": [
    {
     "data": {
      "image/png": "[encoded data removed]",
      "text/plain": [
       "<Figure size 640x480 with 1 Axes>"
      ]
     },
     "metadata": {},
     "output_type": "display_data"
    }
   ],
   "source": [
    "#line chart\n",
    "plt.plot(d_frame[\"Grade\"].value_counts().index,d_frame[\"Grade\"].value_counts(),marker=\"o\",mfc=\"red\",mec=\"black\")\n",
    "plt.grid(True)\n",
    "plt.title(\"Visulazie the grades\")\n",
    "plt.show()"
   ]
  },
  {
   "cell_type": "code",
   "execution_count": 16,
   "id": "a012bedf-a969-416b-89fe-8841f0c2cb01",
   "metadata": {},
   "outputs": [
    {
     "data": {
      "image/png": "[encoded data removed]",
      "text/plain": [
       "<Figure size 640x480 with 1 Axes>"
      ]
     },
     "metadata": {},
     "output_type": "display_data"
    }
   ],
   "source": [
    "#pie chart based on age occurance\n",
    "plt.pie(d_frame[\"Age\"].value_counts(),labels=d_frame[\"Age\"].value_counts().index,autopct=\"%1.1f%%\")\n",
    "plt.title(\"Visulize the age\")\n",
    "plt.show()"
   ]
  },
  {
   "cell_type": "code",
   "execution_count": 17,
   "id": "9ab89e61-5dd5-4940-8870-827f6972c786",
   "metadata": {},
   "outputs": [
    {
     "name": "stdout",
     "output_type": "stream",
     "text": [
      "<class 'pandas.core.frame.DataFrame'>\n",
      "RangeIndex: 106 entries, 0 to 105\n",
      "Data columns (total 7 columns):\n",
      " #   Column      Non-Null Count  Dtype  \n",
      "---  ------      --------------  -----  \n",
      " 0   Student ID  106 non-null    int64  \n",
      " 1   Name        105 non-null    object \n",
      " 2   Age         106 non-null    int64  \n",
      " 3   Grade       105 non-null    object \n",
      " 4   Major       105 non-null    object \n",
      " 5   GPA         106 non-null    float64\n",
      " 6   City        105 non-null    object \n",
      "dtypes: float64(1), int64(2), object(4)\n",
      "memory usage: 5.9+ KB\n"
     ]
    }
   ],
   "source": [
    "d_frame.info()"
   ]
  },
  {
   "cell_type": "code",
   "execution_count": 18,
   "id": "7c4c30c5-164a-4324-86f6-06700163ad5d",
   "metadata": {},
   "outputs": [
    {
     "name": "stdout",
     "output_type": "stream",
     "text": [
      "<class 'pandas.core.frame.DataFrame'>\n",
      "RangeIndex: 106 entries, 0 to 105\n",
      "Data columns (total 7 columns):\n",
      " #   Column      Non-Null Count  Dtype  \n",
      "---  ------      --------------  -----  \n",
      " 0   Student ID  106 non-null    int64  \n",
      " 1   Name        105 non-null    object \n",
      " 2   Age         106 non-null    int64  \n",
      " 3   Grade       105 non-null    object \n",
      " 4   Major       105 non-null    object \n",
      " 5   GPA         106 non-null    float64\n",
      " 6   City        105 non-null    object \n",
      "dtypes: float64(1), int64(2), object(4)\n",
      "memory usage: 5.9+ KB\n"
     ]
    }
   ],
   "source": [
    "#drop the null value\n",
    "#d_frame.dropna()\n",
    "d_frame.dropna()\n",
    "d_frame.info()"
   ]
  },
  {
   "cell_type": "code",
   "execution_count": 19,
   "id": "0b6e2ccc-21c8-436d-ac7a-c45be58a937c",
   "metadata": {},
   "outputs": [
    {
     "data": {
      "text/plain": [
       "Grade\n",
       "False    105\n",
       "True       1\n",
       "Name: count, dtype: int64"
      ]
     },
     "execution_count": 19,
     "metadata": {},
     "output_type": "execute_result"
    }
   ],
   "source": [
    "d_frame[\"Grade\"].isnull().value_counts()"
   ]
  },
  {
   "cell_type": "code",
   "execution_count": 20,
   "id": "ca8926e6-9680-40aa-b908-a5b94482c12a",
   "metadata": {},
   "outputs": [
    {
     "data": {
      "text/plain": [
       "Grade\n",
       "False    106\n",
       "Name: count, dtype: int64"
      ]
     },
     "execution_count": 20,
     "metadata": {},
     "output_type": "execute_result"
    }
   ],
   "source": [
    "#fill the null value\n",
    "d_frame[\"Grade\"].fillna(\"B\",inplace=True)\n",
    "d_frame[\"Grade\"].isnull().value_counts()"
   ]
  },
  {
   "cell_type": "code",
   "execution_count": 21,
   "id": "717bfb9e-43ac-498d-8b93-067fdfeea206",
   "metadata": {},
   "outputs": [
    {
     "name": "stdout",
     "output_type": "stream",
     "text": [
      "<class 'pandas.core.frame.DataFrame'>\n",
      "RangeIndex: 106 entries, 0 to 105\n",
      "Data columns (total 7 columns):\n",
      " #   Column      Non-Null Count  Dtype  \n",
      "---  ------      --------------  -----  \n",
      " 0   Student ID  106 non-null    int64  \n",
      " 1   Name        105 non-null    object \n",
      " 2   Age         106 non-null    int64  \n",
      " 3   Grade       106 non-null    object \n",
      " 4   Major       105 non-null    object \n",
      " 5   GPA         106 non-null    float64\n",
      " 6   City        105 non-null    object \n",
      "dtypes: float64(1), int64(2), object(4)\n",
      "memory usage: 5.9+ KB\n"
     ]
    }
   ],
   "source": [
    "d_frame.info()"
   ]
  },
  {
   "cell_type": "code",
   "execution_count": 22,
   "id": "e2f3ca78-4a34-4fe9-8775-f1f7d3528ff5",
   "metadata": {},
   "outputs": [
    {
     "data": {
      "text/plain": [
       "Student ID\n",
       "100    4\n",
       "99     4\n",
       "63     1\n",
       "73     1\n",
       "72     1\n",
       "      ..\n",
       "31     1\n",
       "30     1\n",
       "29     1\n",
       "28     1\n",
       "51     1\n",
       "Name: count, Length: 100, dtype: int64"
      ]
     },
     "execution_count": 22,
     "metadata": {},
     "output_type": "execute_result"
    }
   ],
   "source": [
    "d_frame[\"Student ID\"].value_counts()"
   ]
  },
  {
   "cell_type": "code",
   "execution_count": 23,
   "id": "08e20493-a501-4fd3-843c-c34e1a2cfbbe",
   "metadata": {},
   "outputs": [
    {
     "name": "stdout",
     "output_type": "stream",
     "text": [
      "<class 'pandas.core.frame.DataFrame'>\n",
      "Index: 103 entries, 0 to 105\n",
      "Data columns (total 7 columns):\n",
      " #   Column      Non-Null Count  Dtype  \n",
      "---  ------      --------------  -----  \n",
      " 0   Student ID  103 non-null    int64  \n",
      " 1   Name        103 non-null    object \n",
      " 2   Age         103 non-null    int64  \n",
      " 3   Grade       103 non-null    object \n",
      " 4   Major       103 non-null    object \n",
      " 5   GPA         103 non-null    float64\n",
      " 6   City        103 non-null    object \n",
      "dtypes: float64(1), int64(2), object(4)\n",
      "memory usage: 6.4+ KB\n"
     ]
    }
   ],
   "source": [
    "d_frame.dropna(inplace=True)\n",
    "d_frame.info()\n"
   ]
  },
  {
   "cell_type": "code",
   "execution_count": 24,
   "id": "bb4d7d0a-aa2b-4b2c-9888-d939ff40d6bf",
   "metadata": {},
   "outputs": [
    {
     "data": {
      "text/plain": [
       "0      False\n",
       "1      False\n",
       "2      False\n",
       "3      False\n",
       "4      False\n",
       "       ...  \n",
       "101     True\n",
       "102     True\n",
       "103     True\n",
       "104     True\n",
       "105     True\n",
       "Length: 103, dtype: bool"
      ]
     },
     "execution_count": 24,
     "metadata": {},
     "output_type": "execute_result"
    }
   ],
   "source": [
    "#see duplicate data\n",
    "#d_frame.duplicated()\n",
    "d_frame.duplicated()"
   ]
  },
  {
   "cell_type": "code",
   "execution_count": 25,
   "id": "8211d04d-9572-4532-a280-1de2a7e9e502",
   "metadata": {},
   "outputs": [
    {
     "name": "stdout",
     "output_type": "stream",
     "text": [
      "Number of duplicate data:\n"
     ]
    },
    {
     "data": {
      "text/plain": [
       "6"
      ]
     },
     "execution_count": 25,
     "metadata": {},
     "output_type": "execute_result"
    }
   ],
   "source": [
    "print(\"Number of duplicate data:\")\n",
    "d_frame.duplicated().sum()"
   ]
  },
  {
   "cell_type": "code",
   "execution_count": 26,
   "id": "2d5efc35-a216-4f42-b814-2127d7f42733",
   "metadata": {},
   "outputs": [
    {
     "name": "stdout",
     "output_type": "stream",
     "text": [
      "<class 'pandas.core.frame.DataFrame'>\n",
      "Index: 97 entries, 0 to 99\n",
      "Data columns (total 7 columns):\n",
      " #   Column      Non-Null Count  Dtype  \n",
      "---  ------      --------------  -----  \n",
      " 0   Student ID  97 non-null     int64  \n",
      " 1   Name        97 non-null     object \n",
      " 2   Age         97 non-null     int64  \n",
      " 3   Grade       97 non-null     object \n",
      " 4   Major       97 non-null     object \n",
      " 5   GPA         97 non-null     float64\n",
      " 6   City        97 non-null     object \n",
      "dtypes: float64(1), int64(2), object(4)\n",
      "memory usage: 6.1+ KB\n"
     ]
    }
   ],
   "source": [
    "#drop duplicate data\n",
    "#d_frame.drop_duplicates(inplace=True)\n",
    "d_frame.drop_duplicates(inplace=True)\n",
    "d_frame.info()"
   ]
  },
  {
   "cell_type": "code",
   "execution_count": 27,
   "id": "6e582685-4ef2-4750-a55f-19bb3c93164a",
   "metadata": {},
   "outputs": [
    {
     "data": {
      "text/html": [
       "<div>\n",
       "<style scoped>\n",
       "    .dataframe tbody tr th:only-of-type {\n",
       "        vertical-align: middle;\n",
       "    }\n",
       "\n",
       "    .dataframe tbody tr th {\n",
       "        vertical-align: top;\n",
       "    }\n",
       "\n",
       "    .dataframe thead th {\n",
       "        text-align: right;\n",
       "    }\n",
       "</style>\n",
       "<table border=\"1\" class=\"dataframe\">\n",
       "  <thead>\n",
       "    <tr style=\"text-align: right;\">\n",
       "      <th></th>\n",
       "      <th>Student ID</th>\n",
       "      <th>Name</th>\n",
       "      <th>Age</th>\n",
       "      <th>Grade</th>\n",
       "      <th>Major</th>\n",
       "      <th>GPA</th>\n",
       "      <th>City</th>\n",
       "    </tr>\n",
       "  </thead>\n",
       "  <tbody>\n",
       "    <tr>\n",
       "      <th>90</th>\n",
       "      <td>91</td>\n",
       "      <td>August Pace</td>\n",
       "      <td>18</td>\n",
       "      <td>C</td>\n",
       "      <td>English</td>\n",
       "      <td>3.66</td>\n",
       "      <td>PIS</td>\n",
       "    </tr>\n",
       "    <tr>\n",
       "      <th>91</th>\n",
       "      <td>92</td>\n",
       "      <td>Dior Hudson</td>\n",
       "      <td>22</td>\n",
       "      <td>F</td>\n",
       "      <td>Mathematics</td>\n",
       "      <td>2.90</td>\n",
       "      <td>DIW</td>\n",
       "    </tr>\n",
       "    <tr>\n",
       "      <th>92</th>\n",
       "      <td>93</td>\n",
       "      <td>Kamila Waller</td>\n",
       "      <td>20</td>\n",
       "      <td>C</td>\n",
       "      <td>Biology</td>\n",
       "      <td>3.21</td>\n",
       "      <td>DIZ</td>\n",
       "    </tr>\n",
       "    <tr>\n",
       "      <th>93</th>\n",
       "      <td>94</td>\n",
       "      <td>Marley Austin</td>\n",
       "      <td>23</td>\n",
       "      <td>B</td>\n",
       "      <td>Computer Science</td>\n",
       "      <td>3.85</td>\n",
       "      <td>IUZ</td>\n",
       "    </tr>\n",
       "    <tr>\n",
       "      <th>94</th>\n",
       "      <td>95</td>\n",
       "      <td>Alivia Holland</td>\n",
       "      <td>23</td>\n",
       "      <td>A</td>\n",
       "      <td>Biology</td>\n",
       "      <td>3.66</td>\n",
       "      <td>SDG</td>\n",
       "    </tr>\n",
       "    <tr>\n",
       "      <th>95</th>\n",
       "      <td>96</td>\n",
       "      <td>Brady Hubbard</td>\n",
       "      <td>18</td>\n",
       "      <td>B</td>\n",
       "      <td>Biology</td>\n",
       "      <td>2.51</td>\n",
       "      <td>TVV</td>\n",
       "    </tr>\n",
       "    <tr>\n",
       "      <th>96</th>\n",
       "      <td>97</td>\n",
       "      <td>Rosie Chan</td>\n",
       "      <td>24</td>\n",
       "      <td>A</td>\n",
       "      <td>Biology</td>\n",
       "      <td>3.68</td>\n",
       "      <td>HLO</td>\n",
       "    </tr>\n",
       "    <tr>\n",
       "      <th>97</th>\n",
       "      <td>98</td>\n",
       "      <td>Frank Powell</td>\n",
       "      <td>23</td>\n",
       "      <td>C</td>\n",
       "      <td>History</td>\n",
       "      <td>3.24</td>\n",
       "      <td>GPT</td>\n",
       "    </tr>\n",
       "    <tr>\n",
       "      <th>98</th>\n",
       "      <td>99</td>\n",
       "      <td>Vivian Aguirre</td>\n",
       "      <td>19</td>\n",
       "      <td>C</td>\n",
       "      <td>History</td>\n",
       "      <td>2.98</td>\n",
       "      <td>TFB</td>\n",
       "    </tr>\n",
       "    <tr>\n",
       "      <th>99</th>\n",
       "      <td>100</td>\n",
       "      <td>Andy Espinoza</td>\n",
       "      <td>18</td>\n",
       "      <td>F</td>\n",
       "      <td>Biology</td>\n",
       "      <td>3.56</td>\n",
       "      <td>WFJ</td>\n",
       "    </tr>\n",
       "  </tbody>\n",
       "</table>\n",
       "</div>"
      ],
      "text/plain": [
       "    Student ID            Name  Age Grade             Major   GPA City\n",
       "90          91     August Pace   18     C           English  3.66  PIS\n",
       "91          92     Dior Hudson   22     F       Mathematics  2.90  DIW\n",
       "92          93   Kamila Waller   20     C           Biology  3.21  DIZ\n",
       "93          94   Marley Austin   23     B  Computer Science  3.85  IUZ\n",
       "94          95  Alivia Holland   23     A           Biology  3.66  SDG\n",
       "95          96   Brady Hubbard   18     B           Biology  2.51  TVV\n",
       "96          97      Rosie Chan   24     A           Biology  3.68  HLO\n",
       "97          98    Frank Powell   23     C           History  3.24  GPT\n",
       "98          99  Vivian Aguirre   19     C           History  2.98  TFB\n",
       "99         100   Andy Espinoza   18     F           Biology  3.56  WFJ"
      ]
     },
     "execution_count": 27,
     "metadata": {},
     "output_type": "execute_result"
    }
   ],
   "source": [
    "d_frame.tail(10)"
   ]
  },
  {
   "cell_type": "code",
   "execution_count": 28,
   "id": "cd516923-3118-4c04-96f5-9d67b8c68a10",
   "metadata": {},
   "outputs": [
    {
     "name": "stdout",
     "output_type": "stream",
     "text": [
      "    Student ID              Name  Age Grade             Major   GPA City\n",
      "60          61      Remi Herrera   19     B  Computer Science  3.29  ZDY\n",
      "61          62     River Elliott   18     B           Biology  3.78  ATW\n",
      "62          63       Noelle Byrd   22     B       Mathematics  3.49  RCE\n",
      "63          64  Cristian Sweeney   24     A           Biology  3.70  NLN\n",
      "64          65      Yara Buckley   18     B           History  3.08  MPC\n",
      "65          66      Aryan Moreno   19     A           History  3.06  SKM\n",
      "66          67       Mary Morgan   24     D           English  3.37  BAM\n",
      "67          68  Hunter Henderson   25     C  Computer Science  2.88  ISO\n",
      "68          69      Maria Newman   21     C           History  2.63  RNR\n",
      "69          70    Anderson Simon   25     A           History  3.55  DYG\n",
      "70          71  Kalani Macdonald   19     B           English  2.53  TGO\n"
     ]
    }
   ],
   "source": [
    "print(d_frame.loc[60:70])"
   ]
  },
  {
   "cell_type": "code",
   "execution_count": 29,
   "id": "0302ee58-1677-4a9a-9b9f-5cf5271523a9",
   "metadata": {},
   "outputs": [
    {
     "data": {
      "text/html": [
       "<div>\n",
       "<style scoped>\n",
       "    .dataframe tbody tr th:only-of-type {\n",
       "        vertical-align: middle;\n",
       "    }\n",
       "\n",
       "    .dataframe tbody tr th {\n",
       "        vertical-align: top;\n",
       "    }\n",
       "\n",
       "    .dataframe thead th {\n",
       "        text-align: right;\n",
       "    }\n",
       "</style>\n",
       "<table border=\"1\" class=\"dataframe\">\n",
       "  <thead>\n",
       "    <tr style=\"text-align: right;\">\n",
       "      <th></th>\n",
       "      <th>Student ID</th>\n",
       "      <th>Name</th>\n",
       "      <th>Age</th>\n",
       "      <th>Grade</th>\n",
       "      <th>Major</th>\n",
       "      <th>GPA</th>\n",
       "      <th>City</th>\n",
       "    </tr>\n",
       "  </thead>\n",
       "  <tbody>\n",
       "    <tr>\n",
       "      <th>0</th>\n",
       "      <td>1</td>\n",
       "      <td>Paula Singh</td>\n",
       "      <td>23</td>\n",
       "      <td>B</td>\n",
       "      <td>Biology</td>\n",
       "      <td>2.52</td>\n",
       "      <td>LUS</td>\n",
       "    </tr>\n",
       "    <tr>\n",
       "      <th>1</th>\n",
       "      <td>2</td>\n",
       "      <td>Louis Robinson</td>\n",
       "      <td>21</td>\n",
       "      <td>A</td>\n",
       "      <td>English</td>\n",
       "      <td>3.66</td>\n",
       "      <td>KQK</td>\n",
       "    </tr>\n",
       "    <tr>\n",
       "      <th>2</th>\n",
       "      <td>3</td>\n",
       "      <td>Nora Krueger</td>\n",
       "      <td>18</td>\n",
       "      <td>B</td>\n",
       "      <td>English</td>\n",
       "      <td>3.95</td>\n",
       "      <td>EPV</td>\n",
       "    </tr>\n",
       "    <tr>\n",
       "      <th>3</th>\n",
       "      <td>4</td>\n",
       "      <td>Jones Myers</td>\n",
       "      <td>19</td>\n",
       "      <td>C</td>\n",
       "      <td>Mathematics</td>\n",
       "      <td>3.94</td>\n",
       "      <td>CUR</td>\n",
       "    </tr>\n",
       "    <tr>\n",
       "      <th>4</th>\n",
       "      <td>5</td>\n",
       "      <td>Lydia Leon</td>\n",
       "      <td>21</td>\n",
       "      <td>D</td>\n",
       "      <td>Mathematics</td>\n",
       "      <td>3.43</td>\n",
       "      <td>AER</td>\n",
       "    </tr>\n",
       "    <tr>\n",
       "      <th>...</th>\n",
       "      <td>...</td>\n",
       "      <td>...</td>\n",
       "      <td>...</td>\n",
       "      <td>...</td>\n",
       "      <td>...</td>\n",
       "      <td>...</td>\n",
       "      <td>...</td>\n",
       "    </tr>\n",
       "    <tr>\n",
       "      <th>92</th>\n",
       "      <td>96</td>\n",
       "      <td>Brady Hubbard</td>\n",
       "      <td>18</td>\n",
       "      <td>B</td>\n",
       "      <td>Biology</td>\n",
       "      <td>2.51</td>\n",
       "      <td>TVV</td>\n",
       "    </tr>\n",
       "    <tr>\n",
       "      <th>93</th>\n",
       "      <td>97</td>\n",
       "      <td>Rosie Chan</td>\n",
       "      <td>24</td>\n",
       "      <td>A</td>\n",
       "      <td>Biology</td>\n",
       "      <td>3.68</td>\n",
       "      <td>HLO</td>\n",
       "    </tr>\n",
       "    <tr>\n",
       "      <th>94</th>\n",
       "      <td>98</td>\n",
       "      <td>Frank Powell</td>\n",
       "      <td>23</td>\n",
       "      <td>C</td>\n",
       "      <td>History</td>\n",
       "      <td>3.24</td>\n",
       "      <td>GPT</td>\n",
       "    </tr>\n",
       "    <tr>\n",
       "      <th>95</th>\n",
       "      <td>99</td>\n",
       "      <td>Vivian Aguirre</td>\n",
       "      <td>19</td>\n",
       "      <td>C</td>\n",
       "      <td>History</td>\n",
       "      <td>2.98</td>\n",
       "      <td>TFB</td>\n",
       "    </tr>\n",
       "    <tr>\n",
       "      <th>96</th>\n",
       "      <td>100</td>\n",
       "      <td>Andy Espinoza</td>\n",
       "      <td>18</td>\n",
       "      <td>F</td>\n",
       "      <td>Biology</td>\n",
       "      <td>3.56</td>\n",
       "      <td>WFJ</td>\n",
       "    </tr>\n",
       "  </tbody>\n",
       "</table>\n",
       "<p>97 rows × 7 columns</p>\n",
       "</div>"
      ],
      "text/plain": [
       "    Student ID            Name  Age Grade        Major   GPA City\n",
       "0            1     Paula Singh   23     B      Biology  2.52  LUS\n",
       "1            2  Louis Robinson   21     A      English  3.66  KQK\n",
       "2            3    Nora Krueger   18     B      English  3.95  EPV\n",
       "3            4     Jones Myers   19     C  Mathematics  3.94  CUR\n",
       "4            5      Lydia Leon   21     D  Mathematics  3.43  AER\n",
       "..         ...             ...  ...   ...          ...   ...  ...\n",
       "92          96   Brady Hubbard   18     B      Biology  2.51  TVV\n",
       "93          97      Rosie Chan   24     A      Biology  3.68  HLO\n",
       "94          98    Frank Powell   23     C      History  3.24  GPT\n",
       "95          99  Vivian Aguirre   19     C      History  2.98  TFB\n",
       "96         100   Andy Espinoza   18     F      Biology  3.56  WFJ\n",
       "\n",
       "[97 rows x 7 columns]"
      ]
     },
     "execution_count": 29,
     "metadata": {},
     "output_type": "execute_result"
    }
   ],
   "source": [
    "d_frame=d_frame.sort_index().reset_index(drop=True)\n",
    "d_frame"
   ]
  },
  {
   "cell_type": "code",
   "execution_count": 30,
   "id": "a3529dbc-71aa-4964-b959-d01e3005fad0",
   "metadata": {},
   "outputs": [
    {
     "name": "stdout",
     "output_type": "stream",
     "text": [
      "<class 'pandas.core.frame.DataFrame'>\n",
      "RangeIndex: 97 entries, 0 to 96\n",
      "Data columns (total 7 columns):\n",
      " #   Column      Non-Null Count  Dtype  \n",
      "---  ------      --------------  -----  \n",
      " 0   Student ID  97 non-null     int64  \n",
      " 1   Name        97 non-null     object \n",
      " 2   Age         97 non-null     int64  \n",
      " 3   Grade       97 non-null     object \n",
      " 4   Major       97 non-null     object \n",
      " 5   GPA         97 non-null     float64\n",
      " 6   City        97 non-null     object \n",
      "dtypes: float64(1), int64(2), object(4)\n",
      "memory usage: 5.4+ KB\n"
     ]
    }
   ],
   "source": [
    "d_frame.info()"
   ]
  },
  {
   "cell_type": "code",
   "execution_count": 31,
   "id": "3ddc5b48-f41e-4a58-887e-ca0814b0be8a",
   "metadata": {},
   "outputs": [],
   "source": [
    "#convert into csv file\n",
    "#d_frame.to_csv(new file name.csv)\n",
    "d_frame.to_csv(\"C:/Users/Protiva/OneDrive/Desktop/Anudip_python/27 Excel/Cleaned_student_data.csv\",index=False)"
   ]
  },
  {
   "cell_type": "code",
   "execution_count": null,
   "id": "8c63dee6-6c2c-4706-905d-75b356689243",
   "metadata": {},
   "outputs": [],
   "source": []
  }
 ],
 "metadata": {
  "kernelspec": {
   "display_name": "Python 3 (ipykernel)",
   "language": "python",
   "name": "python3"
  },
  "language_info": {
   "codemirror_mode": {
    "name": "ipython",
    "version": 3
   },
   "file_extension": ".py",
   "mimetype": "text/x-python",
   "name": "python",
   "nbconvert_exporter": "python",
   "pygments_lexer": "ipython3",
   "version": "3.10.4"
  }
 },
 "nbformat": 4,
 "nbformat_minor": 5
}
